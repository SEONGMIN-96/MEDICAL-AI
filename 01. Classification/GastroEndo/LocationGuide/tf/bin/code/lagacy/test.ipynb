{
 "cells": [
  {
   "cell_type": "code",
   "execution_count": 14,
   "metadata": {},
   "outputs": [
    {
     "name": "stderr",
     "output_type": "stream",
     "text": [
      "c:\\Users\\user\\anaconda3\\envs\\python_ksm\\lib\\site-packages\\numpy\\_distributor_init.py:32: UserWarning: loaded more than 1 DLL from .libs:\n",
      "c:\\Users\\user\\anaconda3\\envs\\python_ksm\\lib\\site-packages\\numpy\\.libs\\libopenblas.PYQHXLVVQ7VESDPUVUADXEVJOBGHJPAY.gfortran-win_amd64.dll\n",
      "c:\\Users\\user\\anaconda3\\envs\\python_ksm\\lib\\site-packages\\numpy\\.libs\\libopenblas.WCDJNK7YVMPZQ2ME2ZZHJJRJ3JIKNDB7.gfortran-win_amd64.dll\n",
      "  stacklevel=1)\n"
     ]
    }
   ],
   "source": [
    "import os\n",
    "import sys\n",
    "import numpy as np\n",
    "import pandas as pd\n",
    "import cv2\n",
    "import yaml\n",
    "import pickle\n",
    "import glob"
   ]
  },
  {
   "cell_type": "code",
   "execution_count": 21,
   "metadata": {},
   "outputs": [
    {
     "data": {
      "text/plain": [
       "2"
      ]
     },
     "execution_count": 21,
     "metadata": {},
     "output_type": "execute_result"
    }
   ],
   "source": [
    "a = np.array([0, 1])\n",
    "\n",
    "v = np.unique(a)\n",
    "\n",
    "len(v)"
   ]
  },
  {
   "cell_type": "code",
   "execution_count": 27,
   "metadata": {},
   "outputs": [],
   "source": [
    "def time2frame(time_zone):\n",
    "    a = format(time_zone, '04')\n",
    "\n",
    "    m = int(a[0:2])\n",
    "    s = int(a[2:])\n",
    "\n",
    "    frametime = ((m*60) + s) * 60\n",
    "\n",
    "    return frametime"
   ]
  },
  {
   "cell_type": "code",
   "execution_count": 28,
   "metadata": {},
   "outputs": [],
   "source": [
    "video_path = os.path.join('..', 'data', 'video', '1.400.20.81.610.077944533301892.8249.1.46.dcm')\n",
    "\n",
    "# GT 데이터를 정리합니다.\n",
    "# GT 데이터 로드\n",
    "GT_xlsx_path = glob.glob(os.path.join(video_path, '*.xlsx'))\n",
    "GT_xlsx = pd.read_excel(GT_xlsx_path[0], engine='openpyxl')"
   ]
  },
  {
   "cell_type": "code",
   "execution_count": 29,
   "metadata": {},
   "outputs": [
    {
     "data": {
      "text/html": [
       "<div>\n",
       "<style scoped>\n",
       "    .dataframe tbody tr th:only-of-type {\n",
       "        vertical-align: middle;\n",
       "    }\n",
       "\n",
       "    .dataframe tbody tr th {\n",
       "        vertical-align: top;\n",
       "    }\n",
       "\n",
       "    .dataframe thead th {\n",
       "        text-align: right;\n",
       "    }\n",
       "</style>\n",
       "<table border=\"1\" class=\"dataframe\">\n",
       "  <thead>\n",
       "    <tr style=\"text-align: right;\">\n",
       "      <th></th>\n",
       "      <th>Location</th>\n",
       "      <th>Start time</th>\n",
       "      <th>End time</th>\n",
       "    </tr>\n",
       "  </thead>\n",
       "  <tbody>\n",
       "    <tr>\n",
       "      <th>0</th>\n",
       "      <td>ES</td>\n",
       "      <td>0</td>\n",
       "      <td>12</td>\n",
       "    </tr>\n",
       "    <tr>\n",
       "      <th>1</th>\n",
       "      <td>GE</td>\n",
       "      <td>10</td>\n",
       "      <td>34</td>\n",
       "    </tr>\n",
       "    <tr>\n",
       "      <th>2</th>\n",
       "      <td>BODY</td>\n",
       "      <td>32</td>\n",
       "      <td>39</td>\n",
       "    </tr>\n",
       "    <tr>\n",
       "      <th>3</th>\n",
       "      <td>AT</td>\n",
       "      <td>37</td>\n",
       "      <td>46</td>\n",
       "    </tr>\n",
       "    <tr>\n",
       "      <th>4</th>\n",
       "      <td>BB</td>\n",
       "      <td>44</td>\n",
       "      <td>52</td>\n",
       "    </tr>\n",
       "    <tr>\n",
       "      <th>5</th>\n",
       "      <td>SD</td>\n",
       "      <td>50</td>\n",
       "      <td>108</td>\n",
       "    </tr>\n",
       "    <tr>\n",
       "      <th>6</th>\n",
       "      <td>AT</td>\n",
       "      <td>106</td>\n",
       "      <td>113</td>\n",
       "    </tr>\n",
       "    <tr>\n",
       "      <th>7</th>\n",
       "      <td>AG</td>\n",
       "      <td>111</td>\n",
       "      <td>118</td>\n",
       "    </tr>\n",
       "    <tr>\n",
       "      <th>8</th>\n",
       "      <td>AT</td>\n",
       "      <td>116</td>\n",
       "      <td>132</td>\n",
       "    </tr>\n",
       "    <tr>\n",
       "      <th>9</th>\n",
       "      <td>BODY</td>\n",
       "      <td>130</td>\n",
       "      <td>137</td>\n",
       "    </tr>\n",
       "    <tr>\n",
       "      <th>10</th>\n",
       "      <td>CR</td>\n",
       "      <td>135</td>\n",
       "      <td>210</td>\n",
       "    </tr>\n",
       "    <tr>\n",
       "      <th>11</th>\n",
       "      <td>BODY</td>\n",
       "      <td>208</td>\n",
       "      <td>230</td>\n",
       "    </tr>\n",
       "    <tr>\n",
       "      <th>12</th>\n",
       "      <td>AT</td>\n",
       "      <td>228</td>\n",
       "      <td>242</td>\n",
       "    </tr>\n",
       "    <tr>\n",
       "      <th>13</th>\n",
       "      <td>ES</td>\n",
       "      <td>240</td>\n",
       "      <td>254</td>\n",
       "    </tr>\n",
       "    <tr>\n",
       "      <th>14</th>\n",
       "      <td>NO</td>\n",
       "      <td>252</td>\n",
       "      <td>302</td>\n",
       "    </tr>\n",
       "  </tbody>\n",
       "</table>\n",
       "</div>"
      ],
      "text/plain": [
       "   Location  Start time  End time\n",
       "0        ES           0        12\n",
       "1        GE          10        34\n",
       "2      BODY          32        39\n",
       "3        AT          37        46\n",
       "4        BB          44        52\n",
       "5        SD          50       108\n",
       "6        AT         106       113\n",
       "7        AG         111       118\n",
       "8        AT         116       132\n",
       "9      BODY         130       137\n",
       "10       CR         135       210\n",
       "11     BODY         208       230\n",
       "12       AT         228       242\n",
       "13       ES         240       254\n",
       "14       NO         252       302"
      ]
     },
     "execution_count": 29,
     "metadata": {},
     "output_type": "execute_result"
    }
   ],
   "source": [
    "GT_xlsx"
   ]
  },
  {
   "cell_type": "code",
   "execution_count": 30,
   "metadata": {},
   "outputs": [],
   "source": [
    "# GT데이터는 분(min)으로 구성되어, 초(sec)로 변환한다.\n",
    "L_lst, S_lst, E_lst = [], [], []\n",
    "\n",
    "for i, (L, S, E) in enumerate(zip(GT_xlsx['Location'], GT_xlsx['Start time'], GT_xlsx['End time'])):\n",
    "    S_frametime = time2frame(S)\n",
    "    E_frametime = time2frame(E)\n",
    "    \n",
    "    L_lst.append(L)\n",
    "    S_lst.append(S_frametime)\n",
    "    E_lst.append(E_frametime)"
   ]
  },
  {
   "cell_type": "code",
   "execution_count": 31,
   "metadata": {},
   "outputs": [
    {
     "data": {
      "text/html": [
       "<div>\n",
       "<style scoped>\n",
       "    .dataframe tbody tr th:only-of-type {\n",
       "        vertical-align: middle;\n",
       "    }\n",
       "\n",
       "    .dataframe tbody tr th {\n",
       "        vertical-align: top;\n",
       "    }\n",
       "\n",
       "    .dataframe thead th {\n",
       "        text-align: right;\n",
       "    }\n",
       "</style>\n",
       "<table border=\"1\" class=\"dataframe\">\n",
       "  <thead>\n",
       "    <tr style=\"text-align: right;\">\n",
       "      <th></th>\n",
       "      <th>location</th>\n",
       "      <th>start time</th>\n",
       "      <th>end time</th>\n",
       "    </tr>\n",
       "  </thead>\n",
       "  <tbody>\n",
       "    <tr>\n",
       "      <th>0</th>\n",
       "      <td>ES</td>\n",
       "      <td>0</td>\n",
       "      <td>720</td>\n",
       "    </tr>\n",
       "    <tr>\n",
       "      <th>1</th>\n",
       "      <td>GE</td>\n",
       "      <td>600</td>\n",
       "      <td>2040</td>\n",
       "    </tr>\n",
       "    <tr>\n",
       "      <th>2</th>\n",
       "      <td>BODY</td>\n",
       "      <td>1920</td>\n",
       "      <td>2340</td>\n",
       "    </tr>\n",
       "    <tr>\n",
       "      <th>3</th>\n",
       "      <td>AT</td>\n",
       "      <td>2220</td>\n",
       "      <td>2760</td>\n",
       "    </tr>\n",
       "    <tr>\n",
       "      <th>4</th>\n",
       "      <td>BB</td>\n",
       "      <td>2640</td>\n",
       "      <td>3120</td>\n",
       "    </tr>\n",
       "    <tr>\n",
       "      <th>5</th>\n",
       "      <td>SD</td>\n",
       "      <td>3000</td>\n",
       "      <td>4080</td>\n",
       "    </tr>\n",
       "    <tr>\n",
       "      <th>6</th>\n",
       "      <td>AT</td>\n",
       "      <td>3960</td>\n",
       "      <td>4380</td>\n",
       "    </tr>\n",
       "    <tr>\n",
       "      <th>7</th>\n",
       "      <td>AG</td>\n",
       "      <td>4260</td>\n",
       "      <td>4680</td>\n",
       "    </tr>\n",
       "    <tr>\n",
       "      <th>8</th>\n",
       "      <td>AT</td>\n",
       "      <td>4560</td>\n",
       "      <td>5520</td>\n",
       "    </tr>\n",
       "    <tr>\n",
       "      <th>9</th>\n",
       "      <td>BODY</td>\n",
       "      <td>5400</td>\n",
       "      <td>5820</td>\n",
       "    </tr>\n",
       "    <tr>\n",
       "      <th>10</th>\n",
       "      <td>CR</td>\n",
       "      <td>5700</td>\n",
       "      <td>7800</td>\n",
       "    </tr>\n",
       "    <tr>\n",
       "      <th>11</th>\n",
       "      <td>BODY</td>\n",
       "      <td>7680</td>\n",
       "      <td>9000</td>\n",
       "    </tr>\n",
       "    <tr>\n",
       "      <th>12</th>\n",
       "      <td>AT</td>\n",
       "      <td>8880</td>\n",
       "      <td>9720</td>\n",
       "    </tr>\n",
       "    <tr>\n",
       "      <th>13</th>\n",
       "      <td>ES</td>\n",
       "      <td>9600</td>\n",
       "      <td>10440</td>\n",
       "    </tr>\n",
       "    <tr>\n",
       "      <th>14</th>\n",
       "      <td>NO</td>\n",
       "      <td>10320</td>\n",
       "      <td>10920</td>\n",
       "    </tr>\n",
       "  </tbody>\n",
       "</table>\n",
       "</div>"
      ],
      "text/plain": [
       "   location  start time  end time\n",
       "0        ES           0       720\n",
       "1        GE         600      2040\n",
       "2      BODY        1920      2340\n",
       "3        AT        2220      2760\n",
       "4        BB        2640      3120\n",
       "5        SD        3000      4080\n",
       "6        AT        3960      4380\n",
       "7        AG        4260      4680\n",
       "8        AT        4560      5520\n",
       "9      BODY        5400      5820\n",
       "10       CR        5700      7800\n",
       "11     BODY        7680      9000\n",
       "12       AT        8880      9720\n",
       "13       ES        9600     10440\n",
       "14       NO       10320     10920"
      ]
     },
     "execution_count": 31,
     "metadata": {},
     "output_type": "execute_result"
    }
   ],
   "source": [
    "new_gt = pd.DataFrame({\"location\": L_lst, \"start time\": S_lst, \"end time\": E_lst})\n",
    "\n",
    "new_gt"
   ]
  },
  {
   "cell_type": "code",
   "execution_count": 32,
   "metadata": {},
   "outputs": [],
   "source": [
    "frame_flow, gt = [], []\n",
    "\n",
    "for i, (L, S, E) in enumerate(zip(new_gt['location'], new_gt['start time'], new_gt['end time'])):\n",
    "    for j in range(S, E):\n",
    "        if j not in frame_flow:\n",
    "            frame_flow.append(j)\n",
    "            gt.append([L])\n",
    "        else:\n",
    "            gt[j].append(L)"
   ]
  },
  {
   "cell_type": "code",
   "execution_count": 33,
   "metadata": {},
   "outputs": [
    {
     "data": {
      "text/plain": [
       "'GE'"
      ]
     },
     "execution_count": 33,
     "metadata": {},
     "output_type": "execute_result"
    }
   ],
   "source": [
    "gt[700][1]"
   ]
  },
  {
   "cell_type": "code",
   "execution_count": null,
   "metadata": {},
   "outputs": [],
   "source": []
  },
  {
   "cell_type": "code",
   "execution_count": 34,
   "metadata": {},
   "outputs": [
    {
     "name": "stdout",
     "output_type": "stream",
     "text": [
      "[0, 1, 2, 3, 4, 5]\n",
      "[['l'], ['l'], ['l'], ['l', 'k'], ['k'], ['k']]\n"
     ]
    }
   ],
   "source": [
    "a, b = [], []\n",
    "\n",
    "for i in range(4):\n",
    "    if i not in a:\n",
    "        a.append(i)\n",
    "        b.append(['l'])\n",
    "    else:\n",
    "        b.append('l')\n",
    "for i in range(3, 6):\n",
    "    if i not in a:\n",
    "        a.append(i)\n",
    "        b.append(['k'])\n",
    "    else:\n",
    "        b[i].append('k')\n",
    "        \n",
    "print(a)\n",
    "print(b)"
   ]
  },
  {
   "cell_type": "code",
   "execution_count": 35,
   "metadata": {},
   "outputs": [
    {
     "name": "stdout",
     "output_type": "stream",
     "text": [
      "['1', '2', '3', '5', '6'] ['1', '2', '3', '6', '6']\n"
     ]
    }
   ],
   "source": [
    "a = ['0','1','2','3','4','5','6']\n",
    "b = ['0','1','2','3','7','6','6']\n",
    "\n",
    "for i, (aa, bb) in enumerate(zip(a,b)):\n",
    "    if aa=='0' or bb=='7':\n",
    "        a.pop(i)\n",
    "        b.pop(i)\n",
    "        \n",
    "print(a, b)\n"
   ]
  },
  {
   "cell_type": "code",
   "execution_count": 54,
   "metadata": {},
   "outputs": [
    {
     "name": "stdout",
     "output_type": "stream",
     "text": [
      "1.400.20.81.610.077944533301892.8249.1.46.dcm\n",
      "1.400.20.81.610.078491334189220.7822.1.32.dcm\n",
      "1.400.20.81.610.079325033927347.5367.1.27.dcm\n",
      "1.400.20.81.610.080458633120848.0810.1.24.dcm\n",
      "1.400.20.81.610.108966936682144.9534.1.28.dcm\n",
      "1.400.20.81.610.109633337015358.9419.1.35.dcm\n",
      "1.400.20.81.610.111429433303065.5313.1.57.dcm\n",
      "1.400.20.81.610.131151534151164.8695.1.26.dcm\n",
      "1.400.20.81.610.131799234807119.4572.1.28.dcm\n",
      "1.400.20.81.610.161037336482438.4564.1.37.dcm\n",
      "1.400.20.81.610.168147833926604.9779.1.30.dcm\n",
      "1.400.20.81.610.171542535943831.4844.1.27.dcm\n",
      "1.400.20.81.610.175167133752043.7163.1.24.dcm\n",
      "1.400.20.81.610.196813633377392.1394.1.22.dcm\n",
      "1.400.20.81.610.200493034298654.7238.1.29.dcm\n",
      "1.400.20.81.610.203103235073603.5729.1.28.dcm\n",
      "1.400.20.81.610.243077933450098.6864.1.40.dcm\n",
      "1.400.20.81.610.255785833024888.0342.1.38.dcm\n",
      "1.400.20.81.610.301874233405332.0341.1.18.dcm\n",
      "1.400.20.81.610.404626683892714.1991.1.17.dcm\n"
     ]
    }
   ],
   "source": [
    "v_paths = glob.glob(os.path.join('..', 'data', 'video', '*.dcm'))\n",
    "\n",
    "for path in v_paths:\n",
    "    print(path.split('\\\\')[-1])\n",
    "    "
   ]
  },
  {
   "cell_type": "code",
   "execution_count": 14,
   "metadata": {},
   "outputs": [
    {
     "ename": "IndexError",
     "evalue": "tuple index out of range",
     "output_type": "error",
     "traceback": [
      "\u001b[1;31m---------------------------------------------------------------------------\u001b[0m",
      "\u001b[1;31mIndexError\u001b[0m                                Traceback (most recent call last)",
      "\u001b[1;32m<ipython-input-14-1fcfe92bb1f1>\u001b[0m in \u001b[0;36m<module>\u001b[1;34m\u001b[0m\n\u001b[0;32m      8\u001b[0m \u001b[0mtime\u001b[0m\u001b[1;33m.\u001b[0m\u001b[0msleep\u001b[0m\u001b[1;33m(\u001b[0m\u001b[1;36m3\u001b[0m\u001b[1;33m)\u001b[0m\u001b[1;33m\u001b[0m\u001b[1;33m\u001b[0m\u001b[0m\n\u001b[0;32m      9\u001b[0m \u001b[1;33m\u001b[0m\u001b[0m\n\u001b[1;32m---> 10\u001b[1;33m \u001b[0mprint\u001b[0m\u001b[1;33m(\u001b[0m\u001b[1;34m'The Time Required : {1:.3f}'\u001b[0m\u001b[1;33m.\u001b[0m\u001b[0mformat\u001b[0m\u001b[1;33m(\u001b[0m\u001b[0mtime\u001b[0m\u001b[1;33m.\u001b[0m\u001b[0mtime\u001b[0m\u001b[1;33m(\u001b[0m\u001b[1;33m)\u001b[0m \u001b[1;33m-\u001b[0m \u001b[0maa\u001b[0m\u001b[1;33m)\u001b[0m\u001b[1;33m)\u001b[0m\u001b[1;33m\u001b[0m\u001b[1;33m\u001b[0m\u001b[0m\n\u001b[0m",
      "\u001b[1;31mIndexError\u001b[0m: tuple index out of range"
     ]
    }
   ],
   "source": [
    "import tensorflow as tf\n",
    "import datetime\n",
    "\n",
    "import time\n",
    "\n",
    "aa = time.time()\n",
    "\n",
    "time.sleep(3)\n",
    "\n",
    "print('The Time Required : {1:.3f}'.format(time.time() - aa))"
   ]
  },
  {
   "cell_type": "code",
   "execution_count": 16,
   "metadata": {},
   "outputs": [
    {
     "name": "stdout",
     "output_type": "stream",
     "text": [
      "3.0\n",
      "2.0\n",
      "1.4142135623730951\n"
     ]
    }
   ],
   "source": [
    "import numpy as np\n",
    "import pandas as pd\n",
    "\n",
    "a = [1,2,3,4,5]\n",
    "\n",
    "print(np.mean(a))\n",
    "print(np.var(a))\n",
    "print(np.std(a))"
   ]
  },
  {
   "cell_type": "code",
   "execution_count": 25,
   "metadata": {},
   "outputs": [
    {
     "data": {
      "text/plain": [
       "{1: {'1': 0, '2': 1}}"
      ]
     },
     "execution_count": 25,
     "metadata": {},
     "output_type": "execute_result"
    }
   ],
   "source": [
    "a = [{0:{'1':0, '2':1}}, \n",
    "     {1:{'1':0, '2':1}}]\n",
    "\n",
    "a[1]"
   ]
  },
  {
   "cell_type": "code",
   "execution_count": 28,
   "metadata": {},
   "outputs": [],
   "source": [
    "a = [{'ES': {'sensitivity': 0.9930131004366812, 'specificity': 0.8}, \n",
    "    'GE': {'sensitivity': 0.9817123857024106, 'specificity': 0.8245614035087719}, \n",
    "    'CR': {'sensitivity': 0.9651056014692379, 'specificity': 0.8771929824561403}, \n",
    "    'UB': {'sensitivity': 0.9694656488549618, 'specificity': 0.38271604938271603}, \n",
    "    'MB': {'sensitivity': 0.9815590947191953, 'specificity': 0.1791044776119403}, \n",
    "    'LB': {'sensitivity': 0.975328947368421, 'specificity': 0.4772727272727273}, \n",
    "    'AG': {'sensitivity': 0.9777571825764597, 'specificity': 0.9116022099447514}, \n",
    "    'AT': {'sensitivity': 0.9721448467966574, 'specificity': 0.8579234972677595}, \n",
    "    'BB': {'sensitivity': 0.9891304347826086, 'specificity': 0.796875}, \n",
    "    'SD': {'sensitivity': 0.9964695498676082, 'specificity': 0.9291338582677166}, \n",
    "    'NO': {'sensitivity': 0.9431192660550459, 'specificity': 0.7470588235294118}}, \n",
    "    {'ES': {'sensitivity': 0.997338065661047, 'specificity': 0.8270676691729323}, \n",
    "    'GE': {'sensitivity': 0.9809602649006622, 'specificity': 0.8846153846153846}, \n",
    "    'CR': {'sensitivity': 0.9748603351955307, 'specificity': 0.8548387096774194}, \n",
    "    'UB': {'sensitivity': 0.9690117252931323, 'specificity': 0.2727272727272727}, \n",
    "    'MB': {'sensitivity': 0.9851116625310173, 'specificity': 0.27450980392156865}, \n",
    "    'LB': {'sensitivity': 0.9713114754098361, 'specificity': 0.55}, \n",
    "    'AG': {'sensitivity': 0.9822595704948646, 'specificity': 0.8888888888888888}, \n",
    "    'AT': {'sensitivity': 0.9776536312849162, 'specificity': 0.8763440860215054}, \n",
    "    'BB': {'sensitivity': 0.9857621440536013, 'specificity': 0.6515151515151515}, \n",
    "    'SD': {'sensitivity': 0.9938488576449912, 'specificity': 0.9180327868852459}, \n",
    "    'NO': {'sensitivity': 0.9431714023831348, 'specificity': 0.7869822485207101}}\n",
    "    ]\n",
    "\n",
    "all_c_dict = {'ES':0, 'GE':1, 'CR':2, 'UB':3, 'MB':4, 'LB':5, 'AG':6, 'AT':7, 'BB':8, 'SD':9, 'NO':10}"
   ]
  },
  {
   "cell_type": "code",
   "execution_count": 35,
   "metadata": {},
   "outputs": [
    {
     "data": {
      "text/plain": [
       "{'ES': {'sensitivity': 0.9930131004366812, 'specificity': 0.8},\n",
       " 'GE': {'sensitivity': 0.9817123857024106, 'specificity': 0.8245614035087719},\n",
       " 'CR': {'sensitivity': 0.9651056014692379, 'specificity': 0.8771929824561403},\n",
       " 'UB': {'sensitivity': 0.9694656488549618, 'specificity': 0.38271604938271603},\n",
       " 'MB': {'sensitivity': 0.9815590947191953, 'specificity': 0.1791044776119403},\n",
       " 'LB': {'sensitivity': 0.975328947368421, 'specificity': 0.4772727272727273},\n",
       " 'AG': {'sensitivity': 0.9777571825764597, 'specificity': 0.9116022099447514},\n",
       " 'AT': {'sensitivity': 0.9721448467966574, 'specificity': 0.8579234972677595},\n",
       " 'BB': {'sensitivity': 0.9891304347826086, 'specificity': 0.796875},\n",
       " 'SD': {'sensitivity': 0.9964695498676082, 'specificity': 0.9291338582677166},\n",
       " 'NO': {'sensitivity': 0.9431192660550459, 'specificity': 0.7470588235294118}}"
      ]
     },
     "execution_count": 35,
     "metadata": {},
     "output_type": "execute_result"
    }
   ],
   "source": [
    "# a[list(all_c_dict.keys())[0]['sensitivity']]\n",
    "# [list(all_c_dict.keys())[0]]\n",
    "\n",
    "a[0]"
   ]
  },
  {
   "cell_type": "code",
   "execution_count": 44,
   "metadata": {},
   "outputs": [
    {
     "data": {
      "text/plain": [
       "{0: [1, 2, 3, 4]}"
      ]
     },
     "execution_count": 44,
     "metadata": {},
     "output_type": "execute_result"
    }
   ],
   "source": [
    "a = {}\n",
    "\n",
    "# a[list(all_c_dict.keys())[i]] = {'sensitivity': sen, 'specificity': spe}\n",
    "\n",
    "for i in range(5):\n",
    "    try:\n",
    "        a[0].append(i)\n",
    "    except:\n",
    "        a[0] = []\n",
    "        \n",
    "\n",
    "a"
   ]
  }
 ],
 "metadata": {
  "kernelspec": {
   "display_name": "python_ksm",
   "language": "python",
   "name": "python3"
  },
  "language_info": {
   "codemirror_mode": {
    "name": "ipython",
    "version": 3
   },
   "file_extension": ".py",
   "mimetype": "text/x-python",
   "name": "python",
   "nbconvert_exporter": "python",
   "pygments_lexer": "ipython3",
   "version": "3.6.15"
  },
  "orig_nbformat": 4
 },
 "nbformat": 4,
 "nbformat_minor": 2
}
