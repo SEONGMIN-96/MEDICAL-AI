{
 "cells": [
  {
   "cell_type": "code",
   "execution_count": 1,
   "id": "fe960f7f-aec0-41fa-b30b-40781d8e7dd7",
   "metadata": {},
   "outputs": [],
   "source": [
    "import os\n",
    "import sys\n",
    "import numpy as np\n",
    "import pandas as pd\n",
    "import glob\n",
    "import shutil\n",
    "import cv2\n",
    "import time"
   ]
  },
  {
   "cell_type": "code",
   "execution_count": 2,
   "id": "fbfe5d56-c658-425f-92d7-ebe134c5a6df",
   "metadata": {},
   "outputs": [],
   "source": [
    "base_path = os.path.join('..')"
   ]
  },
  {
   "cell_type": "markdown",
   "id": "8a08e7f8-1c40-48b9-a57d-1055703752dc",
   "metadata": {},
   "source": [
    "### Video Path Load"
   ]
  },
  {
   "cell_type": "code",
   "execution_count": 3,
   "id": "7db218cf-8472-4d9a-8cbe-9a7a0e1d99fc",
   "metadata": {},
   "outputs": [
    {
     "data": {
      "text/plain": [
       "['../data/video_gastroscopy/people.mp4',\n",
       " '../data/video_gastroscopy/0.mp4',\n",
       " '../data/video_gastroscopy/1.mp4',\n",
       " '../data/video_gastroscopy/20220926.mp4',\n",
       " '../data/video_gastroscopy/00181323_001.mp4',\n",
       " '../data/video_gastroscopy/00355652_001.mp4',\n",
       " '../data/video_gastroscopy/00537373_001.mp4',\n",
       " '../data/video_gastroscopy/00800633_001.mp4',\n",
       " '../data/video_gastroscopy/00924171_001.mp4',\n",
       " '../data/video_gastroscopy/01225263_001.mp4',\n",
       " '../data/video_gastroscopy/01247583_001.mp4',\n",
       " '../data/video_gastroscopy/01322293_001.mp4',\n",
       " '../data/video_gastroscopy/01364003_001.mp4']"
      ]
     },
     "execution_count": 3,
     "metadata": {},
     "output_type": "execute_result"
    }
   ],
   "source": [
    "gastric_video_paths = glob.glob(os.path.join(base_path, 'data', 'video_gastroscopy', '*.mp4'))\n",
    "gastric_video_paths"
   ]
  },
  {
   "cell_type": "markdown",
   "id": "eaaa5073-0255-443a-8a2a-8bb8df7f1c54",
   "metadata": {},
   "source": [
    "### Video Load"
   ]
  },
  {
   "cell_type": "code",
   "execution_count": 4,
   "id": "fb097506-9f37-4ee8-b015-e79888cc3e30",
   "metadata": {},
   "outputs": [
    {
     "name": "stdout",
     "output_type": "stream",
     "text": [
      "프레임 길이: 16638, 프레임 너비: 1280, 프레임 높이: 720, 초당 프레임 수: 60\n",
      "====================================================================================================\n"
     ]
    }
   ],
   "source": [
    "cap = cv2.VideoCapture(gastric_video_paths[1])       \n",
    "\n",
    "# 프레임 길이, 너비/높이, 초당 프레임 수 확인\n",
    "video_length = cap.get(cv2.CAP_PROP_FRAME_COUNT)\n",
    "video_width = cap.get(cv2.CAP_PROP_FRAME_WIDTH)\n",
    "video_height = cap.get(cv2.CAP_PROP_FRAME_HEIGHT)\n",
    "video_fps = cap.get(cv2.CAP_PROP_FPS)\n",
    "\n",
    "print('프레임 길이: %d, 프레임 너비: %d, 프레임 높이: %d, 초당 프레임 수: %d' %(video_length, video_width, video_height, video_fps))\n",
    "print('=='*50)\n",
    "\n",
    "video_roi = [1198, 649, 532, 70]\n",
    "playback_time = 5\n",
    "max_count = int(playback_time * video_fps + 1)"
   ]
  },
  {
   "cell_type": "code",
   "execution_count": null,
   "id": "d95e0239-e53a-444f-bdb2-54d5fd40be6a",
   "metadata": {},
   "outputs": [
    {
     "name": "stdout",
     "output_type": "stream",
     "text": [
      "1\n",
      "2\n",
      "3\n",
      "4\n",
      "5\n",
      "6\n",
      "7\n",
      "8\n",
      "9\n",
      "10\n",
      "11\n",
      "12\n",
      "13\n",
      "14\n",
      "15\n",
      "16\n",
      "17\n",
      "18\n",
      "19\n",
      "20\n",
      "21\n",
      "22\n",
      "23\n",
      "24\n",
      "25\n",
      "26\n",
      "27\n",
      "28\n",
      "29\n",
      "30\n",
      "31\n",
      "32\n",
      "33\n",
      "34\n",
      "35\n",
      "36\n",
      "37\n",
      "38\n",
      "39\n",
      "40\n",
      "41\n",
      "42\n",
      "43\n",
      "44\n",
      "45\n",
      "46\n",
      "47\n",
      "48\n",
      "49\n",
      "50\n",
      "51\n",
      "52\n",
      "53\n",
      "54\n",
      "55\n",
      "56\n",
      "57\n",
      "58\n",
      "59\n",
      "60\n",
      "61\n",
      "62\n",
      "63\n",
      "64\n",
      "65\n",
      "66\n",
      "67\n",
      "68\n",
      "69\n",
      "70\n",
      "71\n",
      "72\n",
      "73\n",
      "74\n",
      "75\n",
      "76\n",
      "77\n",
      "78\n",
      "79\n",
      "80\n",
      "81\n",
      "82\n",
      "83\n",
      "84\n",
      "85\n",
      "86\n",
      "87\n",
      "88\n",
      "89\n",
      "90\n",
      "91\n",
      "92\n",
      "93\n",
      "94\n",
      "95\n",
      "96\n",
      "97\n",
      "98\n",
      "99\n",
      "100\n",
      "101\n",
      "102\n",
      "103\n",
      "104\n",
      "105\n",
      "106\n",
      "107\n",
      "108\n",
      "109\n",
      "110\n",
      "111\n",
      "112\n",
      "113\n",
      "114\n",
      "115\n",
      "116\n",
      "117\n",
      "118\n",
      "119\n",
      "120\n",
      "121\n",
      "122\n",
      "123\n",
      "124\n",
      "125\n",
      "126\n",
      "127\n",
      "128\n",
      "129\n",
      "130\n"
     ]
    }
   ],
   "source": [
    "count = 0\n",
    "\n",
    "while cap.isOpened():\n",
    "    # 1sec = 60frame -> 10초 재생 \n",
    "    if count == max_count:\n",
    "        b = time.time()\n",
    "        print(\"real time : %ssec\" % (str(b - a)))\n",
    "        print(\"%d초 재생 완료...!\" % (playback_time))\n",
    "\n",
    "        cap.release()\n",
    "        sys.exit()\n",
    "\n",
    "    ret, frame = cap.read()\n",
    "\n",
    "    # 프레임이 읽히면 ret == True\n",
    "    if not ret:\n",
    "        print(\"프레임을 수신할 수 없습니다...\")\n",
    "        cap.release()\n",
    "\n",
    "        sys.exit()\n",
    "    elif ret:\n",
    "        # frame = frame[video_roi[3]:video_roi[1], video_roi[2]:video_roi[0]]\n",
    "        \n",
    "        cv2.imshow(\"video\", frame)\n",
    "        cv2.waitKey(10)\n",
    "        cv2.destroyAllWindows()\n",
    "    \n",
    "    count += 1\n"
   ]
  },
  {
   "cell_type": "code",
   "execution_count": null,
   "id": "7bf4de23-0bf4-43d1-aa7a-482443559f24",
   "metadata": {},
   "outputs": [],
   "source": []
  }
 ],
 "metadata": {
  "kernelspec": {
   "display_name": "KSM01",
   "language": "python",
   "name": "ksm01"
  },
  "language_info": {
   "codemirror_mode": {
    "name": "ipython",
    "version": 3
   },
   "file_extension": ".py",
   "mimetype": "text/x-python",
   "name": "python",
   "nbconvert_exporter": "python",
   "pygments_lexer": "ipython3",
   "version": "3.6.13"
  }
 },
 "nbformat": 4,
 "nbformat_minor": 5
}
