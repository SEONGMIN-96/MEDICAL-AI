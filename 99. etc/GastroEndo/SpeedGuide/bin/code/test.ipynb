{
 "cells": [
  {
   "cell_type": "code",
   "execution_count": 45,
   "metadata": {},
   "outputs": [],
   "source": [
    "from collections import deque, Counter\n",
    "\n",
    "import numpy as np\n",
    "import cv2\n",
    "\n",
    "import os\n",
    "import glob\n",
    "\n",
    "import time"
   ]
  },
  {
   "cell_type": "code",
   "execution_count": 46,
   "metadata": {},
   "outputs": [],
   "source": [
    "class Preprocess(object):\n",
    "    def __init__(self, gamma1:float=0.3, gamma2:float=1.5) -> None:\n",
    "        self.gamma1 = gamma1\n",
    "        self.gamma2 = gamma2\n",
    "\n",
    "    def homomorphic(self, frame:np.array):\n",
    "        ### homomorphic filter는 gray scale image에 대해서 밖에 안 되므로\n",
    "        ### YUV color space로 converting한 뒤 Y에 대해 연산을 진행\n",
    "        img_YUV = cv2.cvtColor(frame, cv2.COLOR_BGR2YUV)    \n",
    "        y = img_YUV[:,:,0]    \n",
    "\n",
    "        rows = y.shape[0]    \n",
    "        cols = y.shape[1]\n",
    "\n",
    "        ### illumination elements와 reflectance elements를 분리하기 위해 log를 취함\n",
    "        imgLog = np.log1p(np.array(y, dtype='float') / 255) # y값을 0~1사이로 조정한 뒤 log(x+1)\n",
    "\n",
    "        ### frequency를 이미지로 나타내면 4분면에 대칭적으로 나타나므로 \n",
    "        ### 4분면 중 하나에 이미지를 대응시키기 위해 row와 column을 2배씩 늘려줌\n",
    "        M = 2*rows + 1\n",
    "        N = 2*cols + 1\n",
    "\n",
    "        ### gaussian mask 생성 sigma = 10\n",
    "        sigma = 10\n",
    "        (X, Y) = np.meshgrid(np.linspace(0, N-1, N), np.linspace(0, M-1, M)) # 0~N-1(and M-1) 까지 1단위로 space를 만듬\n",
    "        Xc = np.ceil(N/2) # 올림 연산\n",
    "        Yc = np.ceil(M/2)\n",
    "        gaussianNumerator = (X - Xc)**2 + (Y - Yc)**2 # 가우시안 분자 생성\n",
    "\n",
    "        ### low pass filter와 high pass filter 생성\n",
    "        LPF = np.exp(-gaussianNumerator / (2*sigma*sigma))\n",
    "        HPF = 1 - LPF\n",
    "\n",
    "        ### LPF랑 HPF를 0이 가운데로 오도록iFFT함. \n",
    "        ### 사실 이 부분이 잘 이해가 안 가는데 plt로 이미지를 띄워보니 shuffling을 수행한 효과가 났음\n",
    "        ### 에너지를 각 귀퉁이로 모아 줌\n",
    "        LPF_shift = np.fft.ifftshift(LPF.copy())\n",
    "        HPF_shift = np.fft.ifftshift(HPF.copy())\n",
    "\n",
    "        ### Log를 씌운 이미지를 FFT해서 LPF와 HPF를 곱해 LF성분과 HF성분을 나눔\n",
    "        img_FFT = np.fft.fft2(imgLog.copy(), (M, N))\n",
    "        img_LF = np.real(np.fft.ifft2(img_FFT.copy() * LPF_shift, (M, N))) # low frequency 성분\n",
    "        img_HF = np.real(np.fft.ifft2(img_FFT.copy() * HPF_shift, (M, N))) # high frequency 성분\n",
    "\n",
    "        ### 각 LF, HF 성분에 scaling factor를 곱해주어 조명값과 반사값을 조절함\n",
    "        img_adjusting = self.gamma1*img_LF[0:rows, 0:cols] + self.gamma2*img_HF[0:rows, 0:cols]\n",
    "\n",
    "        ### 조정된 데이터를 이제 exp 연산을 통해 이미지로 만들어줌\n",
    "        img_exp = np.expm1(img_adjusting) # exp(x) + 1\n",
    "        img_exp = (img_exp - np.min(img_exp)) / (np.max(img_exp) - np.min(img_exp)) # 0~1사이로 정규화\n",
    "        img_out = np.array(255*img_exp, dtype = 'uint8') # 255를 곱해서 intensity값을 만들어줌\n",
    "\n",
    "        ### 마지막으로 YUV에서 Y space를 filtering된 이미지로 교체해주고 RGB space로 converting\n",
    "        img_YUV[:,:,0] = img_out\n",
    "        result = cv2.cvtColor(img_YUV, cv2.COLOR_YUV2BGR)\n",
    "\n",
    "        return result"
   ]
  },
  {
   "cell_type": "code",
   "execution_count": 47,
   "metadata": {},
   "outputs": [
    {
     "name": "stdout",
     "output_type": "stream",
     "text": [
      "2.4994239807128906\n"
     ]
    }
   ],
   "source": [
    "paths = glob.glob(os.path.join('..', 'data', 'sample', '*.png'))\n",
    "\n",
    "start = time.time()\n",
    "\n",
    "ho_fileter = Preprocess()\n",
    "\n",
    "for path in paths:\n",
    "    img = cv2.imread(path)\n",
    "\n",
    "    resize_img = cv2.resize(src=img, dsize=(100,100), interpolation=cv2.INTER_AREA)\n",
    "    \n",
    "    filtered_img = ho_fileter.homomorphic(frame=resize_img)\n",
    "\n",
    "    # cv2.destroyAllWindows()\n",
    "    \n",
    "    resize_img = cv2.resize(src=filtered_img, dsize=(500,500), interpolation=cv2.INTER_AREA)\n",
    "    \n",
    "    # cv2.imshow('src', img)\n",
    "    # cv2.imshow('test', filtered_img)\n",
    "    # cv2.waitKey()\n",
    "    # cv2.destroyAllWindows()\n",
    "\n",
    "    save_path = os.path.join('..', 'data', 'homomorphic_resize', path.split('\\\\')[-1])\n",
    "\n",
    "    cv2.imwrite(save_path, resize_img)\n",
    "    \n",
    "end = time.time() - start\n",
    "\n",
    "print(end)"
   ]
  },
  {
   "cell_type": "code",
   "execution_count": 48,
   "metadata": {},
   "outputs": [],
   "source": [
    "# d: 6.235305547714233\n",
    "# nd: 6.097004413604736"
   ]
  }
 ],
 "metadata": {
  "kernelspec": {
   "display_name": "python_ksm",
   "language": "python",
   "name": "python3"
  },
  "language_info": {
   "codemirror_mode": {
    "name": "ipython",
    "version": 3
   },
   "file_extension": ".py",
   "mimetype": "text/x-python",
   "name": "python",
   "nbconvert_exporter": "python",
   "pygments_lexer": "ipython3",
   "version": "3.6.15"
  },
  "orig_nbformat": 4
 },
 "nbformat": 4,
 "nbformat_minor": 2
}
