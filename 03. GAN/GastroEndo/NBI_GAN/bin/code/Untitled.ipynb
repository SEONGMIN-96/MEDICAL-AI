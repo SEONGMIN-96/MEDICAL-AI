{
 "cells": [
  {
   "cell_type": "code",
   "execution_count": null,
   "id": "7822cfce-e85f-43e0-8316-fa1146fd11d9",
   "metadata": {},
   "outputs": [],
   "source": []
  }
 ],
 "metadata": {
  "kernelspec": {
   "display_name": "KSM01",
   "language": "python",
   "name": "ksm01"
  },
  "language_info": {
   "codemirror_mode": {
    "name": "ipython",
    "version": 3
   },
   "file_extension": ".py",
   "mimetype": "text/x-python",
   "name": "python",
   "nbconvert_exporter": "python",
   "pygments_lexer": "ipython3",
   "version": "3.6.13"
  }
 },
 "nbformat": 4,
 "nbformat_minor": 5
}
